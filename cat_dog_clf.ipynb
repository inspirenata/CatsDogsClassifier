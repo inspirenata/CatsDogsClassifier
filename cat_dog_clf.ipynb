{
  "cells": [
    {
      "metadata": {
        "_uuid": "8f2839f25d086af736a60e9eeb907d3b93b6e0e5",
        "_cell_guid": "b1076dfc-b9ad-4769-8c92-a6c4dae69d19",
        "trusted": true
      },
      "cell_type": "code",
      "source": "import numpy as np\nimport pandas as pd\nimport matplotlib.pyplot as plt\n\nimport os\nprint(os.listdir(\"../input\"))\n\nimport cv2\nfrom tqdm import tqdm\nimport h5py",
      "execution_count": 42,
      "outputs": [
        {
          "output_type": "stream",
          "text": "['train', 'sampleSubmission.csv', 'test1']\n",
          "name": "stdout"
        }
      ]
    },
    {
      "metadata": {
        "_cell_guid": "79c7e3d0-c299-4dcb-8224-4455121ee9b0",
        "_uuid": "d629ff2d2480ee46fbb7e2d37f6b5fab8052498a",
        "trusted": true
      },
      "cell_type": "code",
      "source": "path=\"../input/train/train\"\nnew_path_train=\"../input/train/train_new_resized_96\"\nlabel=[]\ndata1=[]\ncounter=0",
      "execution_count": 34,
      "outputs": []
    },
    {
      "metadata": {
        "trusted": true,
        "scrolled": true,
        "_uuid": "4748fd86549e0ce454b2fbee444c2989611260d0"
      },
      "cell_type": "code",
      "source": "#labeling the data\nfor file in os.listdir(path):\n    image_data=cv2.imread(os.path.join(path,file), cv2.IMREAD_GRAYSCALE)\n    image_data=cv2.resize(image_data,(96,96))\n    if file.startswith(\"cat\"):\n        label.append(0) #labeling cats pictures with 0\n    elif file.startswith(\"dog\"):\n        label.append(1) #labeling dogs pictures with 1\n    try:\n        data1.append(image_data/255)\n    except:\n        label=label[:len(label)-1]\n    counter+=1\n    if counter%1000==0:\n        print (counter,\" image data labelled\")",
      "execution_count": 35,
      "outputs": [
        {
          "output_type": "stream",
          "text": "1000  image data labelled\n2000  image data labelled\n3000  image data labelled\n4000  image data labelled\n5000  image data labelled\n6000  image data labelled\n7000  image data labelled\n8000  image data labelled\n9000  image data labelled\n10000  image data labelled\n11000  image data labelled\n12000  image data labelled\n13000  image data labelled\n14000  image data labelled\n15000  image data labelled\n16000  image data labelled\n17000  image data labelled\n18000  image data labelled\n19000  image data labelled\n20000  image data labelled\n21000  image data labelled\n22000  image data labelled\n23000  image data labelled\n24000  image data labelled\n25000  image data labelled\n",
          "name": "stdout"
        }
      ]
    },
    {
      "metadata": {
        "trusted": true,
        "_uuid": "d12f7adacb8c02ad6be51f3f45dcbfbe19264205"
      },
      "cell_type": "code",
      "source": "from keras import Sequential\nfrom keras.layers import Dense,MaxPooling2D,Conv2D,Flatten,Dropout",
      "execution_count": 36,
      "outputs": []
    },
    {
      "metadata": {
        "_uuid": "8203dc4cedf8c5e4c993d27b83cccdb02c8f2fc7"
      },
      "cell_type": "markdown",
      "source": "There are no silver bullets in terms of the CNN architecture design. The best way to find a model that’s appropriate for a specific case is to start with some basic design and iteratively improve it."
    },
    {
      "metadata": {
        "trusted": true,
        "_uuid": "0a3be3c49cf57fa01140530665da92292fadc49e"
      },
      "cell_type": "code",
      "source": "model=Sequential()\n\nmodel.add(Conv2D(kernel_size=(3,3),filters=3,input_shape=(96,96,1),activation=\"relu\"))\nmodel.add(Conv2D(kernel_size=(3,3),filters=10,activation=\"relu\",padding=\"same\"))\nmodel.add(MaxPooling2D(pool_size=(2,2),strides=(2,2)))\nmodel.add(Conv2D(kernel_size=(3,3),filters=3,activation=\"relu\"))\nmodel.add(Conv2D(kernel_size=(5,5),filters=5,activation=\"relu\"))\nmodel.add(MaxPooling2D(pool_size=(3,3),strides=(2,2)))\nmodel.add(Conv2D(kernel_size=(2,2),strides=(2,2),filters=10))\nmodel.add(Flatten())\nmodel.add(Dropout(0.3))\nmodel.add(Dense(100,activation=\"sigmoid\"))\nmodel.add(Dense(1,activation=\"sigmoid\"))\nmodel.summary()\nmodel.compile(optimizer=\"adadelta\",loss=\"binary_crossentropy\",metrics=[\"accuracy\"])",
      "execution_count": 37,
      "outputs": [
        {
          "output_type": "stream",
          "text": "_________________________________________________________________\nLayer (type)                 Output Shape              Param #   \n=================================================================\nconv2d_16 (Conv2D)           (None, 94, 94, 3)         30        \n_________________________________________________________________\nconv2d_17 (Conv2D)           (None, 94, 94, 10)        280       \n_________________________________________________________________\nmax_pooling2d_7 (MaxPooling2 (None, 47, 47, 10)        0         \n_________________________________________________________________\nconv2d_18 (Conv2D)           (None, 45, 45, 3)         273       \n_________________________________________________________________\nconv2d_19 (Conv2D)           (None, 41, 41, 5)         380       \n_________________________________________________________________\nmax_pooling2d_8 (MaxPooling2 (None, 20, 20, 5)         0         \n_________________________________________________________________\nconv2d_20 (Conv2D)           (None, 10, 10, 10)        210       \n_________________________________________________________________\nflatten_4 (Flatten)          (None, 1000)              0         \n_________________________________________________________________\ndropout_4 (Dropout)          (None, 1000)              0         \n_________________________________________________________________\ndense_7 (Dense)              (None, 100)               100100    \n_________________________________________________________________\ndense_8 (Dense)              (None, 1)                 101       \n=================================================================\nTotal params: 101,374\nTrainable params: 101,374\nNon-trainable params: 0\n_________________________________________________________________\n",
          "name": "stdout"
        }
      ]
    },
    {
      "metadata": {
        "trusted": true,
        "_uuid": "aa0fe6f15694e79c04ebed85fd954ae727802b93"
      },
      "cell_type": "code",
      "source": "import numpy as np\n\ndata1=np.array(data1)\nprint (data1.shape)\ndata1=data1.reshape((data1.shape)[0],(data1.shape)[1],(data1.shape)[2],1)\n#data1=data1/255\nlabels=np.array(label)",
      "execution_count": 38,
      "outputs": [
        {
          "output_type": "stream",
          "text": "(25000, 96, 96)\n",
          "name": "stdout"
        }
      ]
    },
    {
      "metadata": {
        "trusted": true,
        "_uuid": "7ad8fb0e1e103fb7f9d21a7611a3a5ac4115945a"
      },
      "cell_type": "code",
      "source": "print (data1.shape)\nprint (labels.shape)",
      "execution_count": 39,
      "outputs": [
        {
          "output_type": "stream",
          "text": "(25000, 96, 96, 1)\n(25000,)\n",
          "name": "stdout"
        }
      ]
    },
    {
      "metadata": {
        "trusted": true,
        "_uuid": "ad30690020baf1cf5d9847a80cbf3f7c14d148fe"
      },
      "cell_type": "code",
      "source": "history = model.fit(data1,labels,validation_split=0.25,epochs=3,batch_size=10)\nmodel.save_weights(\"model.h5\")\n\n# Fit the model\n#history = model.fit(X, Y, validation_split=0.33, epochs=150, batch_size=10, verbose=0)\n# list all data in history\nprint(history.history.keys())\n# summarize history for accuracy\nplt.plot(history.history['acc'])\nplt.plot(history.history['val_acc'])\nplt.title('model accuracy')\nplt.ylabel('accuracy')\nplt.xlabel('epoch')\nplt.legend(['train', 'test'], loc='upper left')\nplt.show()\n# summarize history for loss\nplt.plot(history.history['loss'])\nplt.plot(history.history['val_loss'])\nplt.title('model loss')\nplt.ylabel('loss')\nplt.xlabel('epoch')\nplt.legend(['train', 'test'], loc='upper left')\nplt.show()",
      "execution_count": 43,
      "outputs": [
        {
          "output_type": "stream",
          "text": "Train on 18750 samples, validate on 6250 samples\nEpoch 1/3\n18750/18750 [==============================] - 24s 1ms/step - loss: 0.4556 - acc: 0.7878 - val_loss: 0.4733 - val_acc: 0.7819\nEpoch 2/3\n18750/18750 [==============================] - 24s 1ms/step - loss: 0.4477 - acc: 0.7909 - val_loss: 0.4770 - val_acc: 0.7781\nEpoch 3/3\n18750/18750 [==============================] - 24s 1ms/step - loss: 0.4411 - acc: 0.7937 - val_loss: 0.4679 - val_acc: 0.7810\ndict_keys(['val_loss', 'val_acc', 'loss', 'acc'])\n",
          "name": "stdout"
        },
        {
          "output_type": "display_data",
          "data": {
            "text/plain": "<Figure size 432x288 with 1 Axes>",
            "image/png": "[encoded data removed]"
          },
          "metadata": {}
        },
        {
          "output_type": "display_data",
          "data": {
            "text/plain": "<Figure size 432x288 with 1 Axes>",
            "image/png": "[encoded data removed]"
          },
          "metadata": {}
        }
      ]
    },
    {
      "metadata": {
        "trusted": true,
        "_uuid": "275ee24fffaa7152e4ddb9f66b8bcbedd40a8617",
        "_kg_hide-output": true
      },
      "cell_type": "code",
      "source": "test_data=[]\nid=[]\ncounter=0\nfor file in os.listdir(\"../input/test1/test1\"):\n    image_data=cv2.imread(os.path.join(\"../input/test1/test1\",file), cv2.IMREAD_GRAYSCALE)\n    try:\n        image_data=cv2.resize(image_data,(96,96))\n        test_data.append(image_data/255)\n        id.append((file.split(\".\"))[0])\n    except:\n        print (\"______\")\n    counter+=1\n    if counter%1000==0:\n        print (counter,\" image data retreived\")",
      "execution_count": null,
      "outputs": []
    },
    {
      "metadata": {
        "trusted": true,
        "_uuid": "fe7d4d14690cac7a9006ddb5165e90cb5b5fbf4f"
      },
      "cell_type": "code",
      "source": "test_data1=np.array(test_data)\nprint (test_data1.shape)\ntest_data1=test_data1.reshape((test_data1.shape)[0],(test_data1.shape)[1],(test_data1.shape)[2],1)",
      "execution_count": null,
      "outputs": []
    },
    {
      "metadata": {
        "trusted": true,
        "_uuid": "1fdcc6e095e21358e92618f2d0d905fe7c8c7f09"
      },
      "cell_type": "code",
      "source": "dataframe_output=pd.DataFrame({\"id\":id})",
      "execution_count": null,
      "outputs": []
    },
    {
      "metadata": {
        "trusted": true,
        "_uuid": "8d1e188744e90d0cdad53469322375153e75e040"
      },
      "cell_type": "code",
      "source": "predicted_labels=model.predict(test_data1)",
      "execution_count": null,
      "outputs": []
    },
    {
      "metadata": {
        "trusted": true,
        "_uuid": "8c0613c78e3ad256d4aed2959a104532abd19ded"
      },
      "cell_type": "code",
      "source": "predicted_labels=np.round(predicted_labels,decimals=2)",
      "execution_count": null,
      "outputs": []
    },
    {
      "metadata": {
        "trusted": true,
        "_uuid": "0e16e9d4d95cb189642b092703fc882595933328"
      },
      "cell_type": "code",
      "source": "labels=[1 if value>0.5 else 0 for value in predicted_labels]",
      "execution_count": null,
      "outputs": []
    },
    {
      "metadata": {
        "trusted": true,
        "_uuid": "d072c5357840cca7b4846dd2786da2f751766b85"
      },
      "cell_type": "code",
      "source": "dataframe_output[\"label\"]=labels",
      "execution_count": null,
      "outputs": []
    },
    {
      "metadata": {
        "trusted": true,
        "_uuid": "5be17382af31459070c165811e1e54f87675d18f"
      },
      "cell_type": "code",
      "source": "dataframe_output.to_csv(\"submission.csv\",index=False)",
      "execution_count": null,
      "outputs": []
    },
    {
      "metadata": {
        "trusted": true,
        "_uuid": "8da53e7b53ca3298c1355eb2a1ffae83fd3554b9"
      },
      "cell_type": "code",
      "source": "",
      "execution_count": null,
      "outputs": []
    }
  ],
  "metadata": {
    "kernelspec": {
      "display_name": "Python 3",
      "language": "python",
      "name": "python3"
    },
    "language_info": {
      "name": "python",
      "version": "3.6.6",
      "mimetype": "text/x-python",
      "codemirror_mode": {
        "name": "ipython",
        "version": 3
      },
      "pygments_lexer": "ipython3",
      "nbconvert_exporter": "python",
      "file_extension": ".py"
    }
  },
  "nbformat": 4,
  "nbformat_minor": 1
}